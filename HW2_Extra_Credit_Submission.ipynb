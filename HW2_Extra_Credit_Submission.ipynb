{
  "cells": [
    {
      "cell_type": "markdown",
      "id": "907737f8",
      "metadata": {},
      "source": [
        "# Eric Wilson HW #2 Extra Credit Submission"
      ]
    },
    {
      "cell_type": "markdown",
      "id": "3cb0bbfa",
      "metadata": {},
      "source": [
        "-------------------------------------------------------------------------------------"
      ]
    },
    {
      "cell_type": "markdown",
      "id": "e0d93166",
      "metadata": {},
      "source": [
        "## ANSWER\n",
        "\n",
        "The MLP model I trained in part_1 had 50,001 parameters (achieved a test performance of 45.3 MSE)\n",
        "\n",
        "The CNN model I train below is only 2,913 parameters and acheives a test loss of 65.6 MSE."
      ]
    },
    {
      "cell_type": "code",
      "execution_count": 10,
      "id": "40b3d0c6",
      "metadata": {},
      "outputs": [],
      "source": [
        "%reset -f"
      ]
    },
    {
      "cell_type": "markdown",
      "id": "2ac9bfa4",
      "metadata": {},
      "source": [
        "### Defines StockDataset CLASS"
      ]
    },
    {
      "cell_type": "code",
      "execution_count": 11,
      "id": "4342abc3",
      "metadata": {
        "id": "4342abc3"
      },
      "outputs": [],
      "source": [
        "from torch.utils.data import DataLoader, Dataset\n",
        "import numpy as np\n",
        "\n",
        "# Returns data in \"Flat\" 1D format\n",
        "class StockDataset(Dataset):\n",
        "    def __init__(self,X,Y,days):\n",
        "        self.X = X\n",
        "        self.Y = Y.reshape(-1)\n",
        "        self.days = days # days ahead for prediction\n",
        "\n",
        "    def __len__(self):\n",
        "        return (len(self.Y)-self.days)\n",
        "\n",
        "    def __getitem__(self,index):\n",
        "        x=self.X[:,index:index+self.days]\n",
        "        x = x.flatten().astype(np.float32)  # returns flat data\n",
        "        y=self.Y[index+self.days]\n",
        "        return x,y\n",
        "\n",
        "\n",
        "# Returns data in (Stock x Days) format\n",
        "class StockDataset_Rect(StockDataset):\n",
        "    def __init__(self, X, Y, days):\n",
        "        super().__init__(X, Y, days)\n",
        "\n",
        "    def __getitem__(self,index):\n",
        "        x=self.X[:,index:index+self.days]\n",
        "        x = x.astype(np.float32)            # returns (ticker x days)\n",
        "        y=self.Y[index+self.days]\n",
        "        return x,y"
      ]
    },
    {
      "cell_type": "markdown",
      "id": "bf1fd514",
      "metadata": {},
      "source": [
        "### Get Stock Data"
      ]
    },
    {
      "cell_type": "code",
      "execution_count": 12,
      "id": "f521af7d-ae88-4742-b390-31ecefbe39fe",
      "metadata": {
        "id": "f521af7d-ae88-4742-b390-31ecefbe39fe"
      },
      "outputs": [],
      "source": [
        "# !pip install pandas\n",
        "# !pip install yfinance\n",
        "import numpy as np\n",
        "from numpy import exp, sum, log, log10\n",
        "import yfinance as yf\n",
        "import pandas as pd\n",
        "\n",
        "def get_price(tick,start='2020-01-01',end=None):\n",
        "    return yf.Ticker(tick).history(start=start,end=end)['Close']\n",
        "\n",
        "def get_prices(tickers,start='2020-01-01',end=None):\n",
        "    df=pd.DataFrame()\n",
        "    for s in tickers:\n",
        "        df[s]=get_price(s,start,end)\n",
        "    return df\n",
        "\n",
        "\n",
        "# Get Data\n",
        "feature_stocks=['tsla','meta','nvda','amzn','nflx','gbtc','gdx','intc','dal','c','goog','aapl','msft','ibm','hp','orcl','sap','crm','hubs','twlo']\n",
        "predict_stock='msft'\n",
        "start_date='2020-01-01'\n",
        "allX=get_prices(feature_stocks,start=start_date)\n",
        "ally=get_prices([predict_stock],start=start_date)\n",
        "\n",
        "\n",
        "# Create different datasets\n",
        "stockData = StockDataset(allX.to_numpy().transpose().astype(np.float32),ally.to_numpy().astype(np.float32),days=5)\n",
        "stockData_deep = StockDataset_Rect(allX.to_numpy().transpose().astype(np.float32),ally.to_numpy().astype(np.float32),days=32)"
      ]
    },
    {
      "cell_type": "markdown",
      "id": "900ce26d",
      "metadata": {},
      "source": [
        "### Define DataLoader"
      ]
    },
    {
      "cell_type": "code",
      "execution_count": null,
      "id": "ea3c1f5b",
      "metadata": {},
      "outputs": [],
      "source": [
        "import lightning as pl\n",
        "import torch.utils.data as data\n",
        "import torch\n",
        "\n",
        "\n",
        "\n",
        "class Stock_DataLoader(pl.LightningDataModule):\n",
        "\n",
        "    # LightningDataModule is just a WRAPPER for torch.DataLoader\n",
        "    def __init__(self, batch_size):\n",
        "        super().__init__()\n",
        "        self.batch_size = batch_size\n",
        "\n",
        "\n",
        "    # splits data into different data sets\n",
        "    def split_data(self, all_data, frac_train, frac_validate):\n",
        "\n",
        "        # Determine each dataset size\n",
        "        self.train_set_size = int(len(all_data)*frac_train)\n",
        "        self.valid_set_size = int(len(all_data)*frac_validate)\n",
        "        self.test_set_size = len(all_data)-self.train_set_size - self.valid_set_size\n",
        "\n",
        "        # Split Data\n",
        "        self.train_set, self.val_set, self.test_set = data.random_split(all_data,[self.train_set_size, self.valid_set_size, self.test_set_size],\\\n",
        "                                              generator=torch.Generator().manual_seed(42))\n",
        "\n",
        "\n",
        "\n",
        "    def train_dataloader(self):\n",
        "        return data.DataLoader(self.train_set, batch_size=self.train_set_size, shuffle=True)  # training data will always be shuffled\n",
        "\n",
        "    def val_dataloader(self):\n",
        "        return data.DataLoader(self.val_set, batch_size=self.valid_set_size, shuffle=False)   # validation won't be shuffled\n",
        "    \n",
        "\n",
        "    def test_dataloader(self):\n",
        "        return data.DataLoader(self.val_set, batch_size=self.test_set_size, shuffle=False)   # validation won't be shuffled\n"
      ]
    },
    {
      "cell_type": "markdown",
      "id": "oML-tGn7BCde",
      "metadata": {
        "id": "oML-tGn7BCde"
      },
      "source": [
        "### Define CNN Class  (model trained with num_layer = 1, so 2,913 parameters)"
      ]
    },
    {
      "cell_type": "code",
      "execution_count": 14,
      "id": "d51b5cec",
      "metadata": {},
      "outputs": [],
      "source": [
        "import torch\n",
        "import torch.nn as nn\n",
        "import torch.nn.functional as F\n",
        "import lightning as pl\n",
        "\n",
        "class CNN_v1(pl.LightningModule):\n",
        "    def __init__(self, in_channels=20, seq_len=32, dropout_rate=0.3, lr=5e-3, num_layer = 1):\n",
        "        super().__init__()\n",
        "\n",
        "        self.seq_len = seq_len\n",
        "        self.lr = lr\n",
        "        self.train_loss = []\n",
        "        self.eval_loss = []\n",
        "        self.test_loss = []\n",
        "\n",
        "        self.k1 = 5\n",
        "        self.k2 = 3\n",
        "        self.k3 = 3\n",
        "\n",
        "        # Allows users to choose between 3 different CNN topologies\n",
        "        match num_layer:\n",
        "\n",
        "            case 1:\n",
        "                self.cnn = nn.Sequential(\n",
        "                    nn.Conv1d(in_channels=in_channels, out_channels=32, kernel_size=self.k1),  # 1st conv\n",
        "                    nn.ReLU(),\n",
        "                    nn.Dropout(dropout_rate),\n",
        "\n",
        "                    nn.Flatten(),\n",
        "                    nn.Linear(32 * (seq_len - self.k1 + 1), 1)\n",
        "                )\n",
        "            \n",
        "            case 2:\n",
        "                self.cnn = nn.Sequential(\n",
        "                    nn.Conv1d(in_channels=in_channels, out_channels=32, kernel_size=self.k1),  # 1st conv\n",
        "                    nn.ReLU(),\n",
        "                    nn.Dropout(dropout_rate),\n",
        "\n",
        "                    nn.Conv1d(in_channels=32, out_channels=32, kernel_size=self.k2),  # 2nd conv layer\n",
        "                    nn.ReLU(),\n",
        "                    nn.Dropout(dropout_rate),\n",
        "\n",
        "                    nn.Flatten(),\n",
        "                    nn.Linear(32 * (seq_len - self.k1 + 1 - self.k2 + 1), 1)\n",
        "                )\n",
        "\n",
        "            case 3:\n",
        "                self.cnn = nn.Sequential(\n",
        "                    nn.Conv1d(in_channels=in_channels, out_channels=32, kernel_size=self.k1),  # 1st conv\n",
        "                    nn.ReLU(),\n",
        "                    nn.Dropout(dropout_rate),\n",
        "\n",
        "                    nn.Conv1d(in_channels=32, out_channels=32, kernel_size=self.k2),  # 2nd conv layer\n",
        "                    nn.ReLU(),\n",
        "                    nn.Dropout(dropout_rate),\n",
        "\n",
        "                    nn.Conv1d(in_channels=32, out_channels=32, kernel_size=self.k3),  # 3nd conv layer\n",
        "                    nn.ReLU(),\n",
        "                    nn.Dropout(dropout_rate),\n",
        "\n",
        "                    nn.Flatten(),\n",
        "                    nn.Linear(32 * (seq_len - self.k1 + 1 - self.k2 + 1 - self.k3 + 1), 1)\n",
        "                )\n",
        "\n",
        "\n",
        "\n",
        "\n",
        "    def forward(self, x):\n",
        "        return self.cnn(x)\n",
        "\n",
        "    # RUNS MODEL INFERENCE, COMPUTES LOSS, SAVES LOSS (training)\n",
        "    def training_step(self, batch, batch_idx):\n",
        "        x, y = batch                            # sets training inputs (x), and outputs (y)\n",
        "        y_hat = self(x)                         # runs inference and saves results\n",
        "        loss = F.mse_loss(y_hat.squeeze(), y)   # computes loss\n",
        "        self.train_loss.append( loss.item() )   # save training loss\n",
        "        # print(\" -- train step\")\n",
        "        return loss\n",
        "\n",
        "    # RUNS MODEL INFERENCE, COMPUTES LOSS, SAVES LOSS (validation)\n",
        "    def validation_step(self, batch, batch_idx):\n",
        "        x, y = batch\n",
        "        y_hat = self(x)\n",
        "        val_loss = F.mse_loss(y_hat.squeeze(), y)\n",
        "        self.eval_loss.append( val_loss.item() )\n",
        "        self.log(\"val_loss\", val_loss, prog_bar=True, on_epoch=True)\n",
        "        # print(\" --------------- eval step\")\n",
        "        return val_loss\n",
        "\n",
        "    # RUNS MODEL INFERENCE, COMPUTES LOSS, SAVES LOSS (test)\n",
        "    def test_step(self, batch, batch_idx):\n",
        "        x, y = batch\n",
        "        y_hat = self(x)\n",
        "        test_loss = F.mse_loss(y_hat.squeeze(), y)\n",
        "        self.test_loss.append( test_loss.item() )\n",
        "        return test_loss\n",
        "\n",
        "    def configure_optimizers(self):\n",
        "        return torch.optim.Adam(self.parameters(), lr=self.lr)"
      ]
    },
    {
      "cell_type": "markdown",
      "id": "e03f6b8e",
      "metadata": {},
      "source": [
        "### Train CNN Model\n"
      ]
    },
    {
      "cell_type": "code",
      "execution_count": 16,
      "id": "a1f1e369",
      "metadata": {},
      "outputs": [
        {
          "name": "stderr",
          "output_type": "stream",
          "text": [
            "You are using the plain ModelCheckpoint callback. Consider using LitModelCheckpoint which with seamless uploading to Model registry.\n",
            "GPU available: True (cuda), used: True\n",
            "TPU available: False, using: 0 TPU cores\n",
            "HPU available: False, using: 0 HPUs\n",
            "LOCAL_RANK: 0 - CUDA_VISIBLE_DEVICES: [0]\n",
            "\n",
            "  | Name | Type       | Params | Mode \n",
            "--------------------------------------------\n",
            "0 | cnn  | Sequential | 4.1 K  | train\n",
            "--------------------------------------------\n",
            "4.1 K     Trainable params\n",
            "0         Non-trainable params\n",
            "4.1 K     Total params\n",
            "0.017     Total estimated model params size (MB)\n",
            "6         Modules in train mode\n",
            "0         Modules in eval mode\n"
          ]
        },
        {
          "name": "stdout",
          "output_type": "stream",
          "text": [
            "                                                                            "
          ]
        },
        {
          "name": "stderr",
          "output_type": "stream",
          "text": [
            "c:\\Users\\ericw\\Desktop\\OU\\Spring_25\\Machine_Learning\\HW\\HW_2\\HW_2_local\\myEnv\\Lib\\site-packages\\lightning\\pytorch\\trainer\\connectors\\data_connector.py:425: The 'val_dataloader' does not have many workers which may be a bottleneck. Consider increasing the value of the `num_workers` argument` to `num_workers=11` in the `DataLoader` to improve performance.\n",
            "c:\\Users\\ericw\\Desktop\\OU\\Spring_25\\Machine_Learning\\HW\\HW_2\\HW_2_local\\myEnv\\Lib\\site-packages\\lightning\\pytorch\\trainer\\connectors\\data_connector.py:425: The 'train_dataloader' does not have many workers which may be a bottleneck. Consider increasing the value of the `num_workers` argument` to `num_workers=11` in the `DataLoader` to improve performance.\n",
            "c:\\Users\\ericw\\Desktop\\OU\\Spring_25\\Machine_Learning\\HW\\HW_2\\HW_2_local\\myEnv\\Lib\\site-packages\\lightning\\pytorch\\loops\\fit_loop.py:310: The number of training batches (1) is smaller than the logging interval Trainer(log_every_n_steps=50). Set a lower value for log_every_n_steps if you want to see logs for the training epoch.\n"
          ]
        },
        {
          "name": "stdout",
          "output_type": "stream",
          "text": [
            "Epoch 4999: 100%|██████████| 1/1 [00:00<00:00, 15.76it/s, v_num=104, val_loss=60.80] "
          ]
        },
        {
          "name": "stderr",
          "output_type": "stream",
          "text": [
            "`Trainer.fit` stopped: `max_epochs=5000` reached.\n"
          ]
        },
        {
          "name": "stdout",
          "output_type": "stream",
          "text": [
            "Epoch 4999: 100%|██████████| 1/1 [00:00<00:00, 12.29it/s, v_num=104, val_loss=60.80]\n"
          ]
        },
        {
          "name": "stderr",
          "output_type": "stream",
          "text": [
            "LOCAL_RANK: 0 - CUDA_VISIBLE_DEVICES: [0]\n",
            "c:\\Users\\ericw\\Desktop\\OU\\Spring_25\\Machine_Learning\\HW\\HW_2\\HW_2_local\\myEnv\\Lib\\site-packages\\lightning\\pytorch\\trainer\\connectors\\data_connector.py:425: The 'test_dataloader' does not have many workers which may be a bottleneck. Consider increasing the value of the `num_workers` argument` to `num_workers=11` in the `DataLoader` to improve performance.\n"
          ]
        },
        {
          "name": "stdout",
          "output_type": "stream",
          "text": [
            "Testing DataLoader 0: 100%|██████████| 1/1 [00:00<00:00, 111.41it/s]\n",
            "done\n"
          ]
        }
      ],
      "source": [
        "import lightning as pl\n",
        "import torch\n",
        "\n",
        "# Instantiate DataLoaders\n",
        "CNN_dataLoader = Stock_DataLoader(batch_size=32*20)\n",
        "CNN_dataLoader.split_data(stockData_deep, frac_train=0.7, frac_validate=0.15)\n",
        "\n",
        "\n",
        "# Make the model\n",
        "CNN_L1 = CNN_v1(in_channels=20, seq_len=32, dropout_rate=0.15, lr=1.5e-4, num_layer=1)\n",
        "\n",
        "# Instantiate Trainer\n",
        "CNN_trainer_L1 = pl.Trainer( max_epochs=5000, check_val_every_n_epoch=1 )\n",
        "\n",
        "# Train Model\n",
        "CNN_trainer_L1.fit( CNN_L1, datamodule=CNN_dataLoader )\n",
        "\n",
        "# Test Model\n",
        "CNN_trainer_L1.test( CNN_L1, datamodule=CNN_dataLoader )\n",
        "\n",
        "# Save Model Weights\n",
        "torch.save(CNN_L1.state_dict(), \"cnn_weights.pt\")\n",
        "\n",
        "print(\"done\")"
      ]
    },
    {
      "cell_type": "markdown",
      "id": "09f04d3d",
      "metadata": {},
      "source": [
        "### Plot Learning Curves"
      ]
    },
    {
      "cell_type": "code",
      "execution_count": 17,
      "id": "b41023a1",
      "metadata": {},
      "outputs": [
        {
          "data": {
            "image/png": "[encoded data removed]",
            "text/plain": [
              "<Figure size 800x600 with 2 Axes>"
            ]
          },
          "metadata": {},
          "output_type": "display_data"
        },
        {
          "name": "stdout",
          "output_type": "stream",
          "text": [
            "Final Test Loss = 60.840972900390625\n"
          ]
        }
      ],
      "source": [
        "import matplotlib.pyplot as plt\n",
        "\n",
        "\n",
        "# Create figure and a single axes\n",
        "fig_mse, (ax_log_mse, ax_mse) = plt.subplots(nrows=2, ncols=1, figsize=(8, 6), sharex=True)\n",
        "\n",
        "\n",
        "# Compute Plotting Data\n",
        "x_epoch = np.arange(0, CNN_L1.current_epoch)\n",
        "\n",
        "train_loss_lin = CNN_L1.train_loss\n",
        "eval_loss_lin = CNN_L1.eval_loss[1:]\n",
        "test_loss_lin = CNN_L1.test_loss[0]\n",
        "\n",
        "train_loss_log = np.log10( train_loss_lin )\n",
        "eval_loss_log = np.log10( eval_loss_lin )\n",
        "test_loss_log = np.log10( test_loss_lin )\n",
        "\n",
        "# ------------------\n",
        "# Log Axes\n",
        "ax_log_mse.plot( x_epoch, train_loss_log, label=\"Training\", color='blue', linestyle='--')\n",
        "ax_log_mse.plot( x_epoch, eval_loss_log, label=\"Evaluation\", color='green', linestyle='-')\n",
        "ax_log_mse.plot( [0, CNN_L1.current_epoch], [test_loss_log, test_loss_log], label=\"Final Test Loss\", color='red', linestyle='--')\n",
        "\n",
        "ax_log_mse.set_xlabel(\"Epoch\")\n",
        "ax_log_mse.set_ylabel(\"log10( MSE )\")\n",
        "ax_log_mse.set_title(\"Multiple Lines on One Axes\")\n",
        "ax_log_mse.grid(True)\n",
        "ax_log_mse.legend()\n",
        "\n",
        "# ------------------\n",
        "# Linear Axes\n",
        "ax_mse.plot( x_epoch, train_loss_lin, label=\"Training\", color='blue', linestyle='--')\n",
        "ax_mse.plot( x_epoch, eval_loss_lin, label=\"Evaluation\", color='green', linestyle='-')\n",
        "ax_mse.plot( [0, CNN_L1.current_epoch], [test_loss_lin, test_loss_lin], label=\"Final Test Loss\", color='red', linestyle='--')\n",
        "\n",
        "\n",
        "ax_mse.set_ylim(0,120)\n",
        "ax_mse.set_xlabel(\"Epoch\")\n",
        "ax_mse.set_ylabel(\"MSE\")\n",
        "ax_mse.set_title(\"Multiple Lines on One Axes\")\n",
        "ax_mse.grid(True)\n",
        "ax_mse.legend()\n",
        "\n",
        "# Set labels and title\n",
        "ax_mse.set_xlabel(\"Epoch\")\n",
        "ax_mse.set_ylabel(\"MSE\")\n",
        "ax_mse.set_title(\"Multiple Lines on One Axes\")\n",
        "\n",
        "\n",
        "\n",
        "# Show plot\n",
        "plt.show()\n",
        "\n",
        "print(f\"Final Test Loss = {test_loss_lin}\")"
      ]
    },
    {
      "cell_type": "markdown",
      "id": "58583067",
      "metadata": {},
      "source": [
        "#### NOTICE: The CNN L1 model achieved MSE = 60.8! (below the 120 threshold mentioned in extra credit)"
      ]
    },
    {
      "cell_type": "markdown",
      "id": "bf833c64",
      "metadata": {},
      "source": [
        "# I am not using test data for hyperparameter tuning as specified in HW assignment"
      ]
    }
  ],
  "metadata": {
    "colab": {
      "collapsed_sections": [
        "buk5w_lGCqo7",
        "srXjIkTFBbWZ",
        "2vSgdTOoFI9e",
        "iI-CmJsPJ1K2",
        "ZATXfRlsH7U2"
      ],
      "provenance": []
    },
    "kernelspec": {
      "display_name": "myEnv",
      "language": "python",
      "name": "python3"
    },
    "language_info": {
      "codemirror_mode": {
        "name": "ipython",
        "version": 3
      },
      "file_extension": ".py",
      "mimetype": "text/x-python",
      "name": "python",
      "nbconvert_exporter": "python",
      "pygments_lexer": "ipython3",
      "version": "3.12.4"
    }
  },
  "nbformat": 4,
  "nbformat_minor": 5
}
